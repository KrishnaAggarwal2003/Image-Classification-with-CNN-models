{
  "cells": [
    {
      "cell_type": "code",
      "execution_count": 1,
      "metadata": {
        "id": "hfF51HKc6gy1"
      },
      "outputs": [],
      "source": [
        "import torch\n",
        "import torch.nn as nn\n",
        "import torch.nn.functional as F\n",
        "import torch.optim as optim\n",
        "from tqdm.notebook import tqdm\n",
        "from torch.utils.data import DataLoader, TensorDataset\n",
        "\n",
        "from tensorflow.keras import datasets"
      ]
    },
    {
      "cell_type": "code",
      "execution_count": 2,
      "metadata": {},
      "outputs": [
        {
          "name": "stdout",
          "output_type": "stream",
          "text": [
            "Device using: cpu\n"
          ]
        }
      ],
      "source": [
        "device = 'cuda' if torch.cuda.is_available() else 'cpu'\n",
        "print(f\"Device using: {device}\")"
      ]
    },
    {
      "cell_type": "code",
      "execution_count": 3,
      "metadata": {
        "colab": {
          "base_uri": "https://localhost:8080/"
        },
        "id": "CY5aylNN6gy4",
        "outputId": "229a46de-72e6-4e84-de2a-4cadfa87427a"
      },
      "outputs": [],
      "source": [
        "(x_train, y_train), (x_test, y_test) = datasets.cifar10.load_data()"
      ]
    },
    {
      "cell_type": "code",
      "execution_count": 4,
      "metadata": {
        "id": "WNVfXsnv6gy5"
      },
      "outputs": [],
      "source": [
        "x_train = torch.tensor(x_train / 255.0, dtype=torch.float32)\n",
        "x_test = torch.tensor(x_test / 255.0, dtype=torch.float32)"
      ]
    },
    {
      "cell_type": "code",
      "execution_count": 5,
      "metadata": {
        "id": "ijiLG8cd6gy6"
      },
      "outputs": [],
      "source": [
        "y_train = torch.tensor(y_train, dtype=torch.long).squeeze()\n",
        "y_test = torch.tensor(y_test, dtype=torch.long).squeeze()"
      ]
    },
    {
      "cell_type": "code",
      "execution_count": 6,
      "metadata": {
        "id": "UQz9QUUBBTwJ"
      },
      "outputs": [],
      "source": [
        "def one_hot_encoded(tensor_array, label_num=10):\n",
        "    torch_tensor = torch.zeros(tensor_array.size(0),label_num)\n",
        "    torch_tensor[[i for i in range(len(tensor_array))], tensor_array] = 1\n",
        "    return torch_tensor"
      ]
    },
    {
      "cell_type": "code",
      "execution_count": 7,
      "metadata": {
        "colab": {
          "base_uri": "https://localhost:8080/"
        },
        "id": "QO7D-oHi6gy7",
        "outputId": "acc55234-5c45-43c9-9c5b-f47fe20bb78b"
      },
      "outputs": [
        {
          "name": "stdout",
          "output_type": "stream",
          "text": [
            "Batch shape: torch.Size([10, 3, 32, 32]) torch.Size([10, 10])\n"
          ]
        }
      ],
      "source": [
        "train_dataset=TensorDataset(x_train.reshape(-1,3,32,32),one_hot_encoded(y_train))\n",
        "train_data_loader=DataLoader(train_dataset , batch_size=10, shuffle=True)\n",
        "\n",
        "for data, target in train_data_loader:\n",
        "    print(\"Batch shape:\", data.shape, target.shape)\n",
        "\n",
        "    # To check sample shape\n",
        "    assert data.shape[1:] == (3, 32, 32), f\"Invalid sample shape: {data.shape[1:]}\"\n",
        "    break  # Just check first batch"
      ]
    },
    {
      "cell_type": "code",
      "execution_count": 8,
      "metadata": {
        "id": "ZChPpPbR6gy9"
      },
      "outputs": [],
      "source": [
        "# CNN Model\n",
        "class Convolution_model(nn.Module):\n",
        "    def __init__(self, input_size=(3,32,32)):\n",
        "        super(Convolution_model, self).__init__()\n",
        "        self.input_size = input_size\n",
        "        self.conv_layer_01 = nn.Conv2d(in_channels=3 , out_channels=32, kernel_size=3, stride=1, padding=0)\n",
        "        self.pool_layer = nn.MaxPool2d(kernel_size=2, stride=2)\n",
        "        self.conv_layer_02 = nn.Conv2d(in_channels=32, out_channels=64, kernel_size=3, stride=1, padding=0)\n",
        "\n",
        "        self.flattened_size = self.convolution_output_size()\n",
        "        self.fc1 = nn.Linear(self.flattened_size , 64)\n",
        "        self.fc2 = nn.Linear(64, 10)\n",
        "        self.conv_activation = nn.ReLU()\n",
        "        self.activation = nn.Sigmoid()\n",
        "\n",
        "    def convolution_output_size(self):\n",
        "        with torch.no_grad():\n",
        "          dummy_target = torch.randn(1, *self.input_size)\n",
        "          output = self.conv_layer_01(dummy_target)\n",
        "          output = self.pool_layer(output)\n",
        "          output = self.conv_layer_02(output)\n",
        "          output = self.pool_layer(output)\n",
        "        return output.view(1,-1).size(1)\n",
        "\n",
        "    def forward(self, img_data):\n",
        "\n",
        "        if img_data.shape[1:] != self.input_size:\n",
        "            raise ValueError(f\"Expected shape: {self.input_size} got {img_data.shape}\")\n",
        "\n",
        "        conv_layer_01 = self.conv_activation(self.conv_layer_01(img_data))\n",
        "        pooled_01 = self.pool_layer(conv_layer_01)\n",
        "        conv_layer_02 = self.conv_activation(self.conv_layer_02(pooled_01))\n",
        "        pooled_02 = self.pool_layer(conv_layer_02)\n",
        "        dense_input = pooled_02.view(pooled_02.size(0),-1)\n",
        "        dense_01 = self.activation(self.fc1(dense_input))\n",
        "        prob_values = torch.softmax(self.fc2(dense_01), dim=1)\n",
        "        return prob_values\n",
        "\n",
        "\n",
        "def train_model(model,train_datasets,learning_rate,num_epochs):\n",
        "    criterion = nn.CrossEntropyLoss()\n",
        "    optimizer = optim.Adam(model.parameters(),lr=learning_rate)\n",
        "\n",
        "    for epoch in tqdm(range(num_epochs)):\n",
        "        model.train()\n",
        "        total_loss = 0\n",
        "\n",
        "        for data,target in train_datasets:\n",
        "            data,target = data.float() , target.float()\n",
        "            optimizer.zero_grad()\n",
        "            output = model.forward(data)\n",
        "            loss_value = criterion(output,target)\n",
        "            loss_value.backward()\n",
        "            optimizer.step()\n",
        "            total_loss +=loss_value.item()\n",
        "        \n",
        "        avg_loss = total_loss / len(train_datasets)    \n",
        "\n",
        "        if epoch % 10 == 0:\n",
        "            print(f\"Epoch : {epoch}/{num_epochs} and Loss value: {avg_loss:.5f}\")\n",
        "\n",
        "    print(f\"Training completed with total epochs: {num_epochs}\")\n"
      ]
    },
    {
      "cell_type": "code",
      "execution_count": 9,
      "metadata": {
        "colab": {
          "base_uri": "https://localhost:8080/"
        },
        "id": "jUHuqNu26gy_",
        "outputId": "00bf1f19-5f64-4340-b276-9dcfb937de6f"
      },
      "outputs": [
        {
          "name": "stdout",
          "output_type": "stream",
          "text": [
            "The flattened layer after whole convolution:- 2304\n"
          ]
        }
      ],
      "source": [
        "conv_model = Convolution_model()\n",
        "\n",
        "print(f\"The flattened layer after whole convolution:- {conv_model.convolution_output_size()}\")\n"
      ]
    },
    {
      "cell_type": "code",
      "execution_count": 10,
      "metadata": {
        "colab": {
          "base_uri": "https://localhost:8080/",
          "height": 371,
          "referenced_widgets": [
            "f4fc3ed29ed34244a0eed3c24b917238",
            "f26078b4641a4a3bb00e8ce167158660",
            "43c202417fe842168f2f2ccfc29c3143",
            "a542335322d344d8bf970bb4dac84520",
            "9cea9ea738ec4ab6912fb801953c429d",
            "fec30afdb2704432af409cfc51d07a4c",
            "af75c02347754bd7833ab7ca2c3417c1",
            "cafd0373e37c458dbc4d834830d35bcc",
            "62380fabe7584135ab94ad2096facbc8",
            "a717347ee39f4ce4a453a6b4ee28d1d2",
            "d111c94270924373ad8d3d00883bcc88"
          ]
        },
        "id": "2IJvNoS_6gzA",
        "outputId": "931b1dc5-b758-4771-8e43-c4b51ddd4551"
      },
      "outputs": [
        {
          "data": {
            "application/vnd.jupyter.widget-view+json": {
              "model_id": "7afdd6bde6ed46769cef322b758c56a7",
              "version_major": 2,
              "version_minor": 0
            },
            "text/plain": [
              "  0%|          | 0/100 [00:00<?, ?it/s]"
            ]
          },
          "metadata": {},
          "output_type": "display_data"
        },
        {
          "name": "stdout",
          "output_type": "stream",
          "text": [
            "Epoch : 0/100 and Loss value: 2.19670\n",
            "Epoch : 10/100 and Loss value: 1.97756\n",
            "Epoch : 20/100 and Loss value: 1.89396\n",
            "Epoch : 30/100 and Loss value: 1.82667\n",
            "Epoch : 40/100 and Loss value: 1.77208\n",
            "Epoch : 50/100 and Loss value: 1.73476\n",
            "Epoch : 60/100 and Loss value: 1.71068\n",
            "Epoch : 70/100 and Loss value: 1.69497\n",
            "Epoch : 80/100 and Loss value: 1.68240\n",
            "Epoch : 90/100 and Loss value: 1.67468\n",
            "Training completed with total epochs: 100\n"
          ]
        }
      ],
      "source": [
        "karpathy_constant = 3e-4\n",
        "\n",
        "train_model(model = conv_model , train_datasets = train_data_loader , learning_rate = karpathy_constant , num_epochs = 100)"
      ]
    },
    {
      "cell_type": "code",
      "execution_count": 11,
      "metadata": {},
      "outputs": [
        {
          "name": "stdout",
          "output_type": "stream",
          "text": [
            "Model parameters loaded from file: \n",
            "odict_keys(['conv_layer_01.weight', 'conv_layer_01.bias', 'conv_layer_02.weight', 'conv_layer_02.bias', 'fc1.weight', 'fc1.bias', 'fc2.weight', 'fc2.bias'])\n"
          ]
        }
      ],
      "source": [
        "# Model Serialization:- Saving up the model parameters after training phase\n",
        "\n",
        "torch.save(conv_model.state_dict(), 'parameters_saved.pth')\n",
        "parameters = torch.load('parameters_saved.pth' , map_location = 'cpu')\n",
        "print(f\"Model parameters loaded from file: \\n{parameters.keys()}\")"
      ]
    },
    {
      "cell_type": "code",
      "execution_count": 12,
      "metadata": {},
      "outputs": [
        {
          "data": {
            "text/plain": [
              "<All keys matched successfully>"
            ]
          },
          "execution_count": 12,
          "metadata": {},
          "output_type": "execute_result"
        }
      ],
      "source": [
        "new_model = Convolution_model()\n",
        "new_model.load_state_dict(torch.load('parameters_saved.pth'))"
      ]
    },
    {
      "cell_type": "code",
      "execution_count": 13,
      "metadata": {},
      "outputs": [
        {
          "name": "stdout",
          "output_type": "stream",
          "text": [
            "Correctly predicted: 4812 and Wrongly predicted: 5188\n",
            "Total test data: 10000\n",
            "Accuracy of the model: 48.12%\n"
          ]
        }
      ],
      "source": [
        "correct_predicted = 0\n",
        "wrong_predicted = 0\n",
        "\n",
        "for i,data in enumerate(x_test):\n",
        "    data = data.reshape(1,3,32,32).float()\n",
        "    predicted_value = torch.argmax(new_model.forward(data)).item()\n",
        "    if predicted_value == y_test[i].item():\n",
        "        correct_predicted += 1\n",
        "    else:\n",
        "        wrong_predicted += 1\n",
        "\n",
        "print(f\"Correctly predicted: {correct_predicted} and Wrongly predicted: {wrong_predicted}\")\n",
        "print(f\"Total test data: {len(x_test)}\")\n",
        "print(f\"Accuracy of the model: {correct_predicted / len(x_test) * 100:.2f}%\")        \n",
        "    "
      ]
    }
  ],
  "metadata": {
    "accelerator": "GPU",
    "colab": {
      "gpuType": "T4",
      "provenance": []
    },
    "kernelspec": {
      "display_name": "base",
      "language": "python",
      "name": "python3"
    },
    "language_info": {
      "codemirror_mode": {
        "name": "ipython",
        "version": 3
      },
      "file_extension": ".py",
      "mimetype": "text/x-python",
      "name": "python",
      "nbconvert_exporter": "python",
      "pygments_lexer": "ipython3",
      "version": "3.11.7"
    },
    "widgets": {
      "application/vnd.jupyter.widget-state+json": {
        "43c202417fe842168f2f2ccfc29c3143": {
          "model_module": "@jupyter-widgets/controls",
          "model_module_version": "1.5.0",
          "model_name": "FloatProgressModel",
          "state": {
            "_dom_classes": [],
            "_model_module": "@jupyter-widgets/controls",
            "_model_module_version": "1.5.0",
            "_model_name": "FloatProgressModel",
            "_view_count": null,
            "_view_module": "@jupyter-widgets/controls",
            "_view_module_version": "1.5.0",
            "_view_name": "ProgressView",
            "bar_style": "danger",
            "description": "",
            "description_tooltip": null,
            "layout": "IPY_MODEL_cafd0373e37c458dbc4d834830d35bcc",
            "max": 100,
            "min": 0,
            "orientation": "horizontal",
            "style": "IPY_MODEL_62380fabe7584135ab94ad2096facbc8",
            "value": 2
          }
        },
        "62380fabe7584135ab94ad2096facbc8": {
          "model_module": "@jupyter-widgets/controls",
          "model_module_version": "1.5.0",
          "model_name": "ProgressStyleModel",
          "state": {
            "_model_module": "@jupyter-widgets/controls",
            "_model_module_version": "1.5.0",
            "_model_name": "ProgressStyleModel",
            "_view_count": null,
            "_view_module": "@jupyter-widgets/base",
            "_view_module_version": "1.2.0",
            "_view_name": "StyleView",
            "bar_color": null,
            "description_width": ""
          }
        },
        "9cea9ea738ec4ab6912fb801953c429d": {
          "model_module": "@jupyter-widgets/base",
          "model_module_version": "1.2.0",
          "model_name": "LayoutModel",
          "state": {
            "_model_module": "@jupyter-widgets/base",
            "_model_module_version": "1.2.0",
            "_model_name": "LayoutModel",
            "_view_count": null,
            "_view_module": "@jupyter-widgets/base",
            "_view_module_version": "1.2.0",
            "_view_name": "LayoutView",
            "align_content": null,
            "align_items": null,
            "align_self": null,
            "border": null,
            "bottom": null,
            "display": null,
            "flex": null,
            "flex_flow": null,
            "grid_area": null,
            "grid_auto_columns": null,
            "grid_auto_flow": null,
            "grid_auto_rows": null,
            "grid_column": null,
            "grid_gap": null,
            "grid_row": null,
            "grid_template_areas": null,
            "grid_template_columns": null,
            "grid_template_rows": null,
            "height": null,
            "justify_content": null,
            "justify_items": null,
            "left": null,
            "margin": null,
            "max_height": null,
            "max_width": null,
            "min_height": null,
            "min_width": null,
            "object_fit": null,
            "object_position": null,
            "order": null,
            "overflow": null,
            "overflow_x": null,
            "overflow_y": null,
            "padding": null,
            "right": null,
            "top": null,
            "visibility": null,
            "width": null
          }
        },
        "a542335322d344d8bf970bb4dac84520": {
          "model_module": "@jupyter-widgets/controls",
          "model_module_version": "1.5.0",
          "model_name": "HTMLModel",
          "state": {
            "_dom_classes": [],
            "_model_module": "@jupyter-widgets/controls",
            "_model_module_version": "1.5.0",
            "_model_name": "HTMLModel",
            "_view_count": null,
            "_view_module": "@jupyter-widgets/controls",
            "_view_module_version": "1.5.0",
            "_view_name": "HTMLView",
            "description": "",
            "description_tooltip": null,
            "layout": "IPY_MODEL_a717347ee39f4ce4a453a6b4ee28d1d2",
            "placeholder": "​",
            "style": "IPY_MODEL_d111c94270924373ad8d3d00883bcc88",
            "value": " 2/100 [02:10&lt;1:19:34, 48.72s/it]"
          }
        },
        "a717347ee39f4ce4a453a6b4ee28d1d2": {
          "model_module": "@jupyter-widgets/base",
          "model_module_version": "1.2.0",
          "model_name": "LayoutModel",
          "state": {
            "_model_module": "@jupyter-widgets/base",
            "_model_module_version": "1.2.0",
            "_model_name": "LayoutModel",
            "_view_count": null,
            "_view_module": "@jupyter-widgets/base",
            "_view_module_version": "1.2.0",
            "_view_name": "LayoutView",
            "align_content": null,
            "align_items": null,
            "align_self": null,
            "border": null,
            "bottom": null,
            "display": null,
            "flex": null,
            "flex_flow": null,
            "grid_area": null,
            "grid_auto_columns": null,
            "grid_auto_flow": null,
            "grid_auto_rows": null,
            "grid_column": null,
            "grid_gap": null,
            "grid_row": null,
            "grid_template_areas": null,
            "grid_template_columns": null,
            "grid_template_rows": null,
            "height": null,
            "justify_content": null,
            "justify_items": null,
            "left": null,
            "margin": null,
            "max_height": null,
            "max_width": null,
            "min_height": null,
            "min_width": null,
            "object_fit": null,
            "object_position": null,
            "order": null,
            "overflow": null,
            "overflow_x": null,
            "overflow_y": null,
            "padding": null,
            "right": null,
            "top": null,
            "visibility": null,
            "width": null
          }
        },
        "af75c02347754bd7833ab7ca2c3417c1": {
          "model_module": "@jupyter-widgets/controls",
          "model_module_version": "1.5.0",
          "model_name": "DescriptionStyleModel",
          "state": {
            "_model_module": "@jupyter-widgets/controls",
            "_model_module_version": "1.5.0",
            "_model_name": "DescriptionStyleModel",
            "_view_count": null,
            "_view_module": "@jupyter-widgets/base",
            "_view_module_version": "1.2.0",
            "_view_name": "StyleView",
            "description_width": ""
          }
        },
        "cafd0373e37c458dbc4d834830d35bcc": {
          "model_module": "@jupyter-widgets/base",
          "model_module_version": "1.2.0",
          "model_name": "LayoutModel",
          "state": {
            "_model_module": "@jupyter-widgets/base",
            "_model_module_version": "1.2.0",
            "_model_name": "LayoutModel",
            "_view_count": null,
            "_view_module": "@jupyter-widgets/base",
            "_view_module_version": "1.2.0",
            "_view_name": "LayoutView",
            "align_content": null,
            "align_items": null,
            "align_self": null,
            "border": null,
            "bottom": null,
            "display": null,
            "flex": null,
            "flex_flow": null,
            "grid_area": null,
            "grid_auto_columns": null,
            "grid_auto_flow": null,
            "grid_auto_rows": null,
            "grid_column": null,
            "grid_gap": null,
            "grid_row": null,
            "grid_template_areas": null,
            "grid_template_columns": null,
            "grid_template_rows": null,
            "height": null,
            "justify_content": null,
            "justify_items": null,
            "left": null,
            "margin": null,
            "max_height": null,
            "max_width": null,
            "min_height": null,
            "min_width": null,
            "object_fit": null,
            "object_position": null,
            "order": null,
            "overflow": null,
            "overflow_x": null,
            "overflow_y": null,
            "padding": null,
            "right": null,
            "top": null,
            "visibility": null,
            "width": null
          }
        },
        "d111c94270924373ad8d3d00883bcc88": {
          "model_module": "@jupyter-widgets/controls",
          "model_module_version": "1.5.0",
          "model_name": "DescriptionStyleModel",
          "state": {
            "_model_module": "@jupyter-widgets/controls",
            "_model_module_version": "1.5.0",
            "_model_name": "DescriptionStyleModel",
            "_view_count": null,
            "_view_module": "@jupyter-widgets/base",
            "_view_module_version": "1.2.0",
            "_view_name": "StyleView",
            "description_width": ""
          }
        },
        "f26078b4641a4a3bb00e8ce167158660": {
          "model_module": "@jupyter-widgets/controls",
          "model_module_version": "1.5.0",
          "model_name": "HTMLModel",
          "state": {
            "_dom_classes": [],
            "_model_module": "@jupyter-widgets/controls",
            "_model_module_version": "1.5.0",
            "_model_name": "HTMLModel",
            "_view_count": null,
            "_view_module": "@jupyter-widgets/controls",
            "_view_module_version": "1.5.0",
            "_view_name": "HTMLView",
            "description": "",
            "description_tooltip": null,
            "layout": "IPY_MODEL_fec30afdb2704432af409cfc51d07a4c",
            "placeholder": "​",
            "style": "IPY_MODEL_af75c02347754bd7833ab7ca2c3417c1",
            "value": "  2%"
          }
        },
        "f4fc3ed29ed34244a0eed3c24b917238": {
          "model_module": "@jupyter-widgets/controls",
          "model_module_version": "1.5.0",
          "model_name": "HBoxModel",
          "state": {
            "_dom_classes": [],
            "_model_module": "@jupyter-widgets/controls",
            "_model_module_version": "1.5.0",
            "_model_name": "HBoxModel",
            "_view_count": null,
            "_view_module": "@jupyter-widgets/controls",
            "_view_module_version": "1.5.0",
            "_view_name": "HBoxView",
            "box_style": "",
            "children": [
              "IPY_MODEL_f26078b4641a4a3bb00e8ce167158660",
              "IPY_MODEL_43c202417fe842168f2f2ccfc29c3143",
              "IPY_MODEL_a542335322d344d8bf970bb4dac84520"
            ],
            "layout": "IPY_MODEL_9cea9ea738ec4ab6912fb801953c429d"
          }
        },
        "fec30afdb2704432af409cfc51d07a4c": {
          "model_module": "@jupyter-widgets/base",
          "model_module_version": "1.2.0",
          "model_name": "LayoutModel",
          "state": {
            "_model_module": "@jupyter-widgets/base",
            "_model_module_version": "1.2.0",
            "_model_name": "LayoutModel",
            "_view_count": null,
            "_view_module": "@jupyter-widgets/base",
            "_view_module_version": "1.2.0",
            "_view_name": "LayoutView",
            "align_content": null,
            "align_items": null,
            "align_self": null,
            "border": null,
            "bottom": null,
            "display": null,
            "flex": null,
            "flex_flow": null,
            "grid_area": null,
            "grid_auto_columns": null,
            "grid_auto_flow": null,
            "grid_auto_rows": null,
            "grid_column": null,
            "grid_gap": null,
            "grid_row": null,
            "grid_template_areas": null,
            "grid_template_columns": null,
            "grid_template_rows": null,
            "height": null,
            "justify_content": null,
            "justify_items": null,
            "left": null,
            "margin": null,
            "max_height": null,
            "max_width": null,
            "min_height": null,
            "min_width": null,
            "object_fit": null,
            "object_position": null,
            "order": null,
            "overflow": null,
            "overflow_x": null,
            "overflow_y": null,
            "padding": null,
            "right": null,
            "top": null,
            "visibility": null,
            "width": null
          }
        }
      }
    }
  },
  "nbformat": 4,
  "nbformat_minor": 0
}
